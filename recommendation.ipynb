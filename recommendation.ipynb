{
 "cells": [
  {
   "cell_type": "code",
   "execution_count": 1,
   "metadata": {
    "collapsed": true
   },
   "outputs": [],
   "source": [
    "import pandas as pd\n",
    "import numpy as np\n",
    "import datetime\n",
    "% matplotlib inline"
   ]
  },
  {
   "cell_type": "markdown",
   "metadata": {},
   "source": [
    "# 資料讀取和基本觀察"
   ]
  },
  {
   "cell_type": "code",
   "execution_count": 2,
   "metadata": {},
   "outputs": [
    {
     "data": {
      "text/html": [
       "<div>\n",
       "<style>\n",
       "    .dataframe thead tr:only-child th {\n",
       "        text-align: right;\n",
       "    }\n",
       "\n",
       "    .dataframe thead th {\n",
       "        text-align: left;\n",
       "    }\n",
       "\n",
       "    .dataframe tbody tr th {\n",
       "        vertical-align: top;\n",
       "    }\n",
       "</style>\n",
       "<table border=\"1\" class=\"dataframe\">\n",
       "  <thead>\n",
       "    <tr style=\"text-align: right;\">\n",
       "      <th></th>\n",
       "      <th>userId</th>\n",
       "      <th>movieId</th>\n",
       "      <th>rating</th>\n",
       "      <th>timestamp</th>\n",
       "    </tr>\n",
       "  </thead>\n",
       "  <tbody>\n",
       "    <tr>\n",
       "      <th>0</th>\n",
       "      <td>1</td>\n",
       "      <td>31</td>\n",
       "      <td>2.5</td>\n",
       "      <td>1260759144</td>\n",
       "    </tr>\n",
       "    <tr>\n",
       "      <th>1</th>\n",
       "      <td>1</td>\n",
       "      <td>1029</td>\n",
       "      <td>3.0</td>\n",
       "      <td>1260759179</td>\n",
       "    </tr>\n",
       "    <tr>\n",
       "      <th>2</th>\n",
       "      <td>1</td>\n",
       "      <td>1061</td>\n",
       "      <td>3.0</td>\n",
       "      <td>1260759182</td>\n",
       "    </tr>\n",
       "    <tr>\n",
       "      <th>3</th>\n",
       "      <td>1</td>\n",
       "      <td>1129</td>\n",
       "      <td>2.0</td>\n",
       "      <td>1260759185</td>\n",
       "    </tr>\n",
       "    <tr>\n",
       "      <th>4</th>\n",
       "      <td>1</td>\n",
       "      <td>1172</td>\n",
       "      <td>4.0</td>\n",
       "      <td>1260759205</td>\n",
       "    </tr>\n",
       "  </tbody>\n",
       "</table>\n",
       "</div>"
      ],
      "text/plain": [
       "   userId  movieId  rating   timestamp\n",
       "0       1       31     2.5  1260759144\n",
       "1       1     1029     3.0  1260759179\n",
       "2       1     1061     3.0  1260759182\n",
       "3       1     1129     2.0  1260759185\n",
       "4       1     1172     4.0  1260759205"
      ]
     },
     "execution_count": 2,
     "metadata": {},
     "output_type": "execute_result"
    }
   ],
   "source": [
    "rating = pd.read_csv('ml-latest-small/ratings.csv')\n",
    "rating.head()"
   ]
  },
  {
   "cell_type": "code",
   "execution_count": 3,
   "metadata": {},
   "outputs": [
    {
     "data": {
      "text/plain": [
       "<matplotlib.axes._subplots.AxesSubplot at 0x1d2958d94a8>"
      ]
     },
     "execution_count": 3,
     "metadata": {},
     "output_type": "execute_result"
    },
    {
     "data": {
      "image/png": "[encoded data removed]",
      "text/plain": [
       "<matplotlib.figure.Figure at 0x1d2948c88d0>"
      ]
     },
     "metadata": {},
     "output_type": "display_data"
    }
   ],
   "source": [
    "rating.userId.value_counts().plot(kind='hist',bins=2480)"
   ]
  },
  {
   "cell_type": "code",
   "execution_count": 4,
   "metadata": {},
   "outputs": [
    {
     "data": {
      "text/plain": [
       "20"
      ]
     },
     "execution_count": 4,
     "metadata": {},
     "output_type": "execute_result"
    }
   ],
   "source": [
    "rating.userId.value_counts().min()"
   ]
  },
  {
   "cell_type": "code",
   "execution_count": 5,
   "metadata": {},
   "outputs": [
    {
     "data": {
      "text/plain": [
       "<matplotlib.axes._subplots.AxesSubplot at 0x1d2993df240>"
      ]
     },
     "execution_count": 5,
     "metadata": {},
     "output_type": "execute_result"
    },
    {
     "data": {
      "image/png": "[encoded data removed]",
      "text/plain": [
       "<matplotlib.figure.Figure at 0x1d295cdee80>"
      ]
     },
     "metadata": {},
     "output_type": "display_data"
    }
   ],
   "source": [
    "rating.movieId.value_counts().plot(kind='hist',bins=350)"
   ]
  },
  {
   "cell_type": "code",
   "execution_count": 6,
   "metadata": {},
   "outputs": [
    {
     "data": {
      "text/plain": [
       "1"
      ]
     },
     "execution_count": 6,
     "metadata": {},
     "output_type": "execute_result"
    }
   ],
   "source": [
    "rating.movieId.value_counts().min()"
   ]
  },
  {
   "cell_type": "code",
   "execution_count": 7,
   "metadata": {},
   "outputs": [
    {
     "data": {
      "text/plain": [
       "356       341\n",
       "296       324\n",
       "318       311\n",
       "593       304\n",
       "260       291\n",
       "480       274\n",
       "2571      259\n",
       "1         247\n",
       "527       244\n",
       "589       237\n",
       "1196      234\n",
       "110       228\n",
       "1270      226\n",
       "608       224\n",
       "2858      220\n",
       "1198      220\n",
       "780       218\n",
       "1210      217\n",
       "588       215\n",
       "457       213\n",
       "2959      202\n",
       "590       202\n",
       "50        201\n",
       "47        201\n",
       "4993      200\n",
       "858       200\n",
       "150       200\n",
       "364       200\n",
       "380       198\n",
       "32        196\n",
       "         ... \n",
       "98160       1\n",
       "6109        1\n",
       "120805      1\n",
       "131168      1\n",
       "73860       1\n",
       "60674       1\n",
       "104595      1\n",
       "133281      1\n",
       "155820      1\n",
       "26797       1\n",
       "47287       1\n",
       "8420        1\n",
       "61250       1\n",
       "3870        1\n",
       "5917        1\n",
       "1759        1\n",
       "26323       1\n",
       "32464       1\n",
       "65216       1\n",
       "65088       1\n",
       "73276       1\n",
       "7708        1\n",
       "69118       1\n",
       "110058      1\n",
       "140763      1\n",
       "48520       1\n",
       "111913      1\n",
       "1311        1\n",
       "27922       1\n",
       "2049        1\n",
       "Name: movieId, Length: 9066, dtype: int64"
      ]
     },
     "execution_count": 7,
     "metadata": {},
     "output_type": "execute_result"
    }
   ],
   "source": [
    "rating.movieId.value_counts()"
   ]
  },
  {
   "cell_type": "markdown",
   "metadata": {},
   "source": [
    "# Memory-based CF"
   ]
  },
  {
   "cell_type": "code",
   "execution_count": 8,
   "metadata": {
    "collapsed": true
   },
   "outputs": [],
   "source": [
    "user_avg_r = {}\n",
    "item_avg_r = {}\n",
    "rating_dict = {}\n",
    "for i in range(len(rating)):\n",
    "    uid = rating.userId[i]\n",
    "    mid = rating.movieId[i]\n",
    "    rat = rating.rating[i]\n",
    "    user_avg_r[uid] = user_avg_r.get(uid,0)+rat\n",
    "    item_avg_r[mid] = item_avg_r.get(mid,0)+rat\n",
    "    rating_dict[uid] = rating_dict.get(uid,{})\n",
    "    rating_dict[uid][mid] = rating_dict[uid].get(mid,rat)\n",
    "\n",
    "userN = rating.userId.value_counts()    \n",
    "movieN = rating.movieId.value_counts()\n",
    "\n",
    "for i in userN.index:\n",
    "    user_avg_r[i] = user_avg_r[i]/userN[i]\n",
    "for i in movieN.index:\n",
    "    item_avg_r[i] = item_avg_r[i]/movieN[i]\n"
   ]
  },
  {
   "cell_type": "code",
   "execution_count": 9,
   "metadata": {},
   "outputs": [
    {
     "data": {
      "text/plain": [
       "-1"
      ]
     },
     "execution_count": 9,
     "metadata": {},
     "output_type": "execute_result"
    }
   ],
   "source": [
    "testuid = 1\n",
    "testmid = 1\n",
    "rating_dict[testuid].get(testmid,-1)"
   ]
  },
  {
   "cell_type": "code",
   "execution_count": 10,
   "metadata": {},
   "outputs": [
    {
     "data": {
      "text/html": [
       "<div>\n",
       "<style>\n",
       "    .dataframe thead tr:only-child th {\n",
       "        text-align: right;\n",
       "    }\n",
       "\n",
       "    .dataframe thead th {\n",
       "        text-align: left;\n",
       "    }\n",
       "\n",
       "    .dataframe tbody tr th {\n",
       "        vertical-align: top;\n",
       "    }\n",
       "</style>\n",
       "<table border=\"1\" class=\"dataframe\">\n",
       "  <thead>\n",
       "    <tr style=\"text-align: right;\">\n",
       "      <th></th>\n",
       "      <th>userId</th>\n",
       "      <th>movieId</th>\n",
       "      <th>rating</th>\n",
       "      <th>timestamp</th>\n",
       "    </tr>\n",
       "  </thead>\n",
       "  <tbody>\n",
       "    <tr>\n",
       "      <th>495</th>\n",
       "      <td>7</td>\n",
       "      <td>1</td>\n",
       "      <td>3.0</td>\n",
       "      <td>851866703</td>\n",
       "    </tr>\n",
       "    <tr>\n",
       "      <th>699</th>\n",
       "      <td>9</td>\n",
       "      <td>1</td>\n",
       "      <td>4.0</td>\n",
       "      <td>938629179</td>\n",
       "    </tr>\n",
       "    <tr>\n",
       "      <th>889</th>\n",
       "      <td>13</td>\n",
       "      <td>1</td>\n",
       "      <td>5.0</td>\n",
       "      <td>1331380058</td>\n",
       "    </tr>\n",
       "    <tr>\n",
       "      <th>962</th>\n",
       "      <td>15</td>\n",
       "      <td>1</td>\n",
       "      <td>2.0</td>\n",
       "      <td>997938310</td>\n",
       "    </tr>\n",
       "    <tr>\n",
       "      <th>3105</th>\n",
       "      <td>19</td>\n",
       "      <td>1</td>\n",
       "      <td>3.0</td>\n",
       "      <td>855190091</td>\n",
       "    </tr>\n",
       "  </tbody>\n",
       "</table>\n",
       "</div>"
      ],
      "text/plain": [
       "      userId  movieId  rating   timestamp\n",
       "495        7        1     3.0   851866703\n",
       "699        9        1     4.0   938629179\n",
       "889       13        1     5.0  1331380058\n",
       "962       15        1     2.0   997938310\n",
       "3105      19        1     3.0   855190091"
      ]
     },
     "execution_count": 10,
     "metadata": {},
     "output_type": "execute_result"
    }
   ],
   "source": [
    "subrating = rating[rating.movieId==testmid]\n",
    "subrating.head()"
   ]
  },
  {
   "cell_type": "code",
   "execution_count": 11,
   "metadata": {
    "collapsed": true
   },
   "outputs": [],
   "source": [
    "sims = {}\n",
    "for user in subrating.userId:\n",
    "    Auserrating = rating[rating.userId==testuid]\n",
    "    Buserrating = rating[rating.userId==user]\n",
    "    \n",
    "    Auserrating = Auserrating[Auserrating.movieId.isin(Buserrating.movieId)].sort_values('movieId')\n",
    "    Buserrating = Buserrating[Buserrating.movieId.isin(Auserrating.movieId)].sort_values('movieId')\n",
    "    if len(Auserrating)<=2:\n",
    "        sim=0\n",
    "    else:\n",
    "        Arat = Auserrating.rating.reset_index(drop=True)\n",
    "        Brat = Buserrating.rating.reset_index(drop=True)\n",
    "    \n",
    "        sim = sum(Arat*Brat)/np.sqrt(sum(Arat**2)*sum(Brat**2))\n",
    "    sims[user] = sim\n"
   ]
  },
  {
   "cell_type": "code",
   "execution_count": 12,
   "metadata": {},
   "outputs": [
    {
     "data": {
      "text/plain": [
       "2.8648745144961811"
      ]
     },
     "execution_count": 12,
     "metadata": {},
     "output_type": "execute_result"
    }
   ],
   "source": [
    "top = 0\n",
    "bottom = 0\n",
    "for user in subrating.userId:\n",
    "    if sims[user] == 0:\n",
    "        continue\n",
    "    top += sims[user]*(rating_dict[user][testmid] - user_avg_r[user])\n",
    "    bottom += sims[user]\n",
    "user_avg_r[testuid]+top/bottom"
   ]
  },
  {
   "cell_type": "markdown",
   "metadata": {
    "collapsed": true
   },
   "source": [
    "# matrix factorization"
   ]
  },
  {
   "cell_type": "code",
   "execution_count": 29,
   "metadata": {
    "collapsed": true
   },
   "outputs": [],
   "source": [
    "def matrix_factorization(R, P, Q, K, steps=30, alpha=0.0005, beta=0.01):\n",
    "    Pdelta = 0\n",
    "    Qdelta = 0\n",
    "    strange = 1\n",
    "    # original GD\n",
    "    for step in range(steps):\n",
    "        e = 0\n",
    "        ist = 0\n",
    "        ien = strange\n",
    "        \n",
    "        while True:\n",
    "            i = ist\n",
    "            if ist % 50000 == 0:\n",
    "                print(datetime.datetime.now().time())\n",
    "                \n",
    "            uid = R[i,0]\n",
    "            mid = R[i,1]\n",
    "            Pt = P[uid,:].copy()\n",
    "            Qt = Q[mid,:].copy()\n",
    "            \n",
    "            eij = R[i,2] - np.sum(Pt*Qt)\n",
    "            e = e + np.sum(np.power(eij, 2))\n",
    "            e = e + (beta/2) * np.sum(np.power(Pt,2) + np.power(Qt,2))\n",
    "            \n",
    "            Pdelta = alpha * (2 * np.tile(eij,(K,1)).T * Qt - beta * Pt)\n",
    "            Qdelta = alpha * (2 * np.tile(eij,(K,1)).T * Pt - beta * Qt)\n",
    "            \n",
    "\n",
    "            P[uid,:] = P[uid,:] + Pdelta\n",
    "            Q[mid,:] = Q[mid,:] + Qdelta\n",
    "\n",
    "            \n",
    "            ist+=strange\n",
    "            if ist == R.shape[0]:\n",
    "                break\n",
    "        #np.savetxt(\"PP.csv\", P, delimiter=\",\")\n",
    "        #np.savetxt(\"QQ.csv\", Q, delimiter=\",\")\n",
    "        if e < 6000:\n",
    "            break\n",
    "        else:\n",
    "            print(e,datetime.datetime.now().time())\n",
    "    return P, Q\n"
   ]
  },
  {
   "cell_type": "code",
   "execution_count": 30,
   "metadata": {
    "collapsed": true
   },
   "outputs": [],
   "source": [
    "K = 24\n",
    "M = rating.userId.max()+1\n",
    "N = rating.movieId.max()+1\n",
    "P = np.random.rand(M,K)\n",
    "Q = np.random.rand(N,K)\n",
    "\n",
    "a = rating[['userId','movieId']].values.T\n",
    "b = (rating.rating.values*10).round().astype(np.int64).reshape(1,-1)\n",
    "R = np.concatenate((a,b),axis=0).T"
   ]
  },
  {
   "cell_type": "code",
   "execution_count": 31,
   "metadata": {
    "scrolled": true
   },
   "outputs": [
    {
     "name": "stdout",
     "output_type": "stream",
     "text": [
      "14:10:13.138438\n",
      "14:10:16.627026\n",
      "14:10:20.148647\n",
      "22608736.2317 14:10:20.149150\n",
      "14:10:20.149150\n",
      "14:10:23.623304\n",
      "14:10:27.227339\n",
      "11709915.8312 14:10:27.227840\n",
      "14:10:27.227840\n",
      "14:10:30.822703\n",
      "14:10:34.311556\n",
      "8836669.1429 14:10:34.312563\n",
      "14:10:34.312563\n",
      "14:10:37.685317\n",
      "14:10:41.196905\n",
      "8020207.97384 14:10:41.197420\n",
      "14:10:41.197420\n",
      "14:10:44.599093\n",
      "14:10:48.042524\n",
      "7559551.2888 14:10:48.043028\n",
      "14:10:48.043028\n",
      "14:10:51.420456\n",
      "14:10:54.893997\n",
      "7208746.73902 14:10:54.894974\n",
      "14:10:54.894974\n",
      "14:10:58.420371\n",
      "14:11:02.100331\n",
      "6877876.7353 14:11:02.100843\n",
      "14:11:02.100843\n",
      "14:11:05.602650\n",
      "14:11:09.057029\n",
      "6529319.96761 14:11:09.057029\n",
      "14:11:09.057029\n",
      "14:11:12.590051\n",
      "14:11:16.096525\n",
      "6160691.87501 14:11:16.097027\n",
      "14:11:16.097529\n",
      "14:11:19.552315\n",
      "14:11:23.104079\n",
      "5792084.04442 14:11:23.104580\n",
      "14:11:23.104580\n",
      "14:11:26.488718\n",
      "14:11:29.872267\n",
      "5441825.06377 14:11:29.872769\n",
      "14:11:29.872769\n",
      "14:11:33.348191\n",
      "14:11:37.061040\n",
      "5114983.56488 14:11:37.062018\n",
      "14:11:37.062018\n",
      "14:11:40.579104\n",
      "14:11:44.077624\n",
      "4811402.57606 14:11:44.078125\n",
      "14:11:44.078125\n",
      "14:11:47.537470\n",
      "14:11:51.118746\n",
      "4531613.88595 14:11:51.119249\n",
      "14:11:51.119249\n",
      "14:11:54.478820\n",
      "14:11:57.963877\n",
      "4276381.72803 14:11:57.964399\n",
      "14:11:57.964399\n",
      "14:12:01.769989\n",
      "14:12:05.255318\n",
      "4045630.90166 14:12:05.255789\n",
      "14:12:05.256316\n",
      "14:12:08.969750\n",
      "14:12:12.553877\n",
      "3838259.00594 14:12:12.554884\n",
      "14:12:12.554884\n",
      "14:12:15.976424\n",
      "14:12:19.484596\n",
      "3652412.96583 14:12:19.485102\n",
      "14:12:19.485102\n",
      "14:12:22.934857\n",
      "14:12:26.357415\n",
      "3485869.95408 14:12:26.358432\n",
      "14:12:26.358432\n",
      "14:12:29.786691\n",
      "14:12:33.291534\n",
      "3336353.10774 14:12:33.291534\n",
      "14:12:33.291534\n",
      "14:12:36.774083\n",
      "14:12:40.290189\n",
      "3201728.62137 14:12:40.290690\n",
      "14:12:40.290690\n",
      "14:12:43.894882\n",
      "14:12:47.481830\n",
      "3080096.39858 14:12:47.481830\n",
      "14:12:47.481830\n",
      "14:12:50.974572\n",
      "14:12:54.417179\n",
      "2969810.37777 14:12:54.418176\n",
      "14:12:54.418176\n",
      "14:12:57.884557\n",
      "14:13:01.465012\n",
      "2869462.50167 14:13:01.465012\n",
      "14:13:01.465012\n",
      "14:13:05.042893\n",
      "14:13:08.480814\n",
      "2777852.90172 14:13:08.481822\n",
      "14:13:08.481822\n",
      "14:13:11.910621\n",
      "14:13:15.476176\n",
      "2693958.16615 14:13:15.476677\n",
      "14:13:15.476677\n",
      "14:13:19.009558\n",
      "14:13:22.493001\n",
      "2616902.62185 14:13:22.493503\n",
      "14:13:22.493503\n",
      "14:13:25.979670\n",
      "14:13:29.526227\n",
      "2545933.97443 14:13:29.527235\n",
      "14:13:29.527235\n",
      "14:13:33.066879\n",
      "14:13:36.582468\n",
      "2480403.14604 14:13:36.583471\n",
      "14:13:36.583471\n",
      "14:13:40.062977\n",
      "14:13:43.576509\n",
      "2419747.68994 14:13:43.577008\n"
     ]
    }
   ],
   "source": [
    "nP, nQ = matrix_factorization(R, P, Q, K)"
   ]
  },
  {
   "cell_type": "code",
   "execution_count": 32,
   "metadata": {
    "collapsed": true
   },
   "outputs": [],
   "source": [
    "result = []\n",
    "for i in range(len(rating)):\n",
    "    result.append(np.dot(P[rating.userId[i]],Q[rating.movieId[i]])/10.0)\n",
    "rating['result'] = result"
   ]
  },
  {
   "cell_type": "code",
   "execution_count": 33,
   "metadata": {},
   "outputs": [
    {
     "data": {
      "text/html": [
       "<div>\n",
       "<style>\n",
       "    .dataframe thead tr:only-child th {\n",
       "        text-align: right;\n",
       "    }\n",
       "\n",
       "    .dataframe thead th {\n",
       "        text-align: left;\n",
       "    }\n",
       "\n",
       "    .dataframe tbody tr th {\n",
       "        vertical-align: top;\n",
       "    }\n",
       "</style>\n",
       "<table border=\"1\" class=\"dataframe\">\n",
       "  <thead>\n",
       "    <tr style=\"text-align: right;\">\n",
       "      <th></th>\n",
       "      <th>userId</th>\n",
       "      <th>movieId</th>\n",
       "      <th>rating</th>\n",
       "      <th>timestamp</th>\n",
       "      <th>result</th>\n",
       "    </tr>\n",
       "  </thead>\n",
       "  <tbody>\n",
       "    <tr>\n",
       "      <th>0</th>\n",
       "      <td>1</td>\n",
       "      <td>31</td>\n",
       "      <td>2.5</td>\n",
       "      <td>1260759144</td>\n",
       "      <td>2.570766</td>\n",
       "    </tr>\n",
       "    <tr>\n",
       "      <th>1</th>\n",
       "      <td>1</td>\n",
       "      <td>1029</td>\n",
       "      <td>3.0</td>\n",
       "      <td>1260759179</td>\n",
       "      <td>2.667015</td>\n",
       "    </tr>\n",
       "    <tr>\n",
       "      <th>2</th>\n",
       "      <td>1</td>\n",
       "      <td>1061</td>\n",
       "      <td>3.0</td>\n",
       "      <td>1260759182</td>\n",
       "      <td>2.495136</td>\n",
       "    </tr>\n",
       "    <tr>\n",
       "      <th>3</th>\n",
       "      <td>1</td>\n",
       "      <td>1129</td>\n",
       "      <td>2.0</td>\n",
       "      <td>1260759185</td>\n",
       "      <td>2.459951</td>\n",
       "    </tr>\n",
       "    <tr>\n",
       "      <th>4</th>\n",
       "      <td>1</td>\n",
       "      <td>1172</td>\n",
       "      <td>4.0</td>\n",
       "      <td>1260759205</td>\n",
       "      <td>3.193422</td>\n",
       "    </tr>\n",
       "  </tbody>\n",
       "</table>\n",
       "</div>"
      ],
      "text/plain": [
       "   userId  movieId  rating   timestamp    result\n",
       "0       1       31     2.5  1260759144  2.570766\n",
       "1       1     1029     3.0  1260759179  2.667015\n",
       "2       1     1061     3.0  1260759182  2.495136\n",
       "3       1     1129     2.0  1260759185  2.459951\n",
       "4       1     1172     4.0  1260759205  3.193422"
      ]
     },
     "execution_count": 33,
     "metadata": {},
     "output_type": "execute_result"
    }
   ],
   "source": [
    "rating.head()"
   ]
  },
  {
   "cell_type": "code",
   "execution_count": 36,
   "metadata": {},
   "outputs": [
    {
     "data": {
      "text/plain": [
       "True     75458\n",
       "False    24546\n",
       "dtype: int64"
      ]
     },
     "execution_count": 36,
     "metadata": {},
     "output_type": "execute_result"
    }
   ],
   "source": [
    "th = 0.5\n",
    "((rating['rating']-rating['result']<th)&\n",
    " (rating['rating']-rating['result']>-th)).value_counts()"
   ]
  },
  {
   "cell_type": "markdown",
   "metadata": {
    "collapsed": true
   },
   "source": [
    "# 加速"
   ]
  },
  {
   "cell_type": "code",
   "execution_count": 37,
   "metadata": {
    "collapsed": true
   },
   "outputs": [],
   "source": [
    "def matrix_factorization2(R, P, Q, K, steps=100, alpha=0.0005, beta=0.01):\n",
    "    Pdelta = 0\n",
    "    Qdelta = 0\n",
    "    strange = 100\n",
    "    # original GD\n",
    "    for step in range(steps):\n",
    "        e = 0\n",
    "        ist = 0\n",
    "        ien = strange\n",
    "        \n",
    "        while True:\n",
    "            if ien > R.shape[0]:\n",
    "                ien = R.shape[0] \n",
    "            i = [n for n in range(ist,ien)]\n",
    "            #if ist % 50000 == 0:\n",
    "            #    print(datetime.datetime.now().time())\n",
    "                \n",
    "            uid = R[i,0]\n",
    "            mid = R[i,1]\n",
    "            Pt = P[uid,:].copy()\n",
    "            Qt = Q[mid,:].copy()\n",
    "            \n",
    "            eij = R[i,2] - np.sum(Pt*Qt,axis=1)\n",
    "            e = e + np.sum(np.power(eij, 2))\n",
    "            e = e + (beta/2) * np.sum(np.power(Pt,2) + np.power(Qt,2))\n",
    "            \n",
    "            Pdelta = alpha * (2 * np.tile(eij,(K,1)).T * Qt - beta * Pt)\n",
    "            Qdelta = alpha * (2 * np.tile(eij,(K,1)).T * Pt - beta * Qt)\n",
    "\n",
    "            uquid = np.unique(uid)\n",
    "            Psums = []\n",
    "            for idx in uquid:\n",
    "                Psums.append(Pdelta[uid == idx,:].sum(axis=0))\n",
    "            Psums = np.array(Psums)\n",
    "            \n",
    "            uqmid = np.unique(mid)\n",
    "            Qsums = []\n",
    "            for idx in uqmid:\n",
    "                Qsums.append(Qdelta[mid == idx,:].sum(axis=0))\n",
    "            Qsums = np.array(Qsums)\n",
    "            \n",
    "            P[uquid,:] = P[uquid,:] + Psums\n",
    "            Q[uqmid,:] = Q[uqmid,:] + Qsums\n",
    "\n",
    "\n",
    "            if ien == R.shape[0]:\n",
    "                break\n",
    "            ist+=strange\n",
    "            ien+=strange\n",
    "        #np.savetxt(\"PP.csv\", P, delimiter=\",\")\n",
    "        #np.savetxt(\"QQ.csv\", Q, delimiter=\",\")\n",
    "        if e < 6000:\n",
    "            break\n",
    "        elif step%5 == 0:\n",
    "            print(e,datetime.datetime.now().time())\n",
    "    return P, Q\n"
   ]
  },
  {
   "cell_type": "code",
   "execution_count": 38,
   "metadata": {
    "collapsed": true
   },
   "outputs": [],
   "source": [
    "K = 24\n",
    "M = rating.userId.max()+1\n",
    "N = rating.movieId.max()+1\n",
    "P = np.random.rand(M,K)\n",
    "Q = np.random.rand(N,K)\n",
    "\n",
    "a = rating[['userId','movieId']].values.T\n",
    "b = (rating.rating.values*10).round().astype(np.int64).reshape(1,-1)\n",
    "R = np.concatenate((a,b),axis=0).T"
   ]
  },
  {
   "cell_type": "code",
   "execution_count": 39,
   "metadata": {
    "scrolled": true
   },
   "outputs": [
    {
     "name": "stdout",
     "output_type": "stream",
     "text": [
      "37633065.1462 15:18:24.564278\n",
      "7303171.216 15:18:30.375659\n",
      "5571367.37198 15:18:36.161599\n",
      "4172659.2313 15:18:41.735108\n",
      "3315740.69795 15:18:47.390938\n",
      "2786906.2802 15:18:53.084051\n",
      "2439050.6983 15:18:58.754822\n",
      "2198398.60611 15:19:04.619350\n",
      "2024597.50663 15:19:10.367000\n",
      "1894210.50624 15:19:16.143601\n",
      "1793120.25099 15:19:21.841238\n",
      "1712529.54759 15:19:27.654587\n",
      "1646756.76085 15:19:33.282024\n",
      "1592003.09679 15:19:39.117877\n",
      "1545647.13035 15:19:44.905338\n",
      "1505828.01636 15:19:50.611877\n",
      "1471191.75535 15:19:56.369562\n",
      "1440732.21137 15:20:02.083302\n",
      "1413688.27676 15:20:07.889107\n",
      "1389475.08569 15:20:13.764415\n"
     ]
    }
   ],
   "source": [
    "nP, nQ = matrix_factorization2(R, P, Q, K)"
   ]
  },
  {
   "cell_type": "code",
   "execution_count": 40,
   "metadata": {
    "collapsed": true
   },
   "outputs": [],
   "source": [
    "result = []\n",
    "for i in range(len(rating)):\n",
    "    result.append(np.dot(P[rating.userId[i]],Q[rating.movieId[i]])/10.0)\n",
    "rating['result'] = result"
   ]
  },
  {
   "cell_type": "code",
   "execution_count": 41,
   "metadata": {},
   "outputs": [
    {
     "data": {
      "text/html": [
       "<div>\n",
       "<style>\n",
       "    .dataframe thead tr:only-child th {\n",
       "        text-align: right;\n",
       "    }\n",
       "\n",
       "    .dataframe thead th {\n",
       "        text-align: left;\n",
       "    }\n",
       "\n",
       "    .dataframe tbody tr th {\n",
       "        vertical-align: top;\n",
       "    }\n",
       "</style>\n",
       "<table border=\"1\" class=\"dataframe\">\n",
       "  <thead>\n",
       "    <tr style=\"text-align: right;\">\n",
       "      <th></th>\n",
       "      <th>userId</th>\n",
       "      <th>movieId</th>\n",
       "      <th>rating</th>\n",
       "      <th>timestamp</th>\n",
       "      <th>result</th>\n",
       "    </tr>\n",
       "  </thead>\n",
       "  <tbody>\n",
       "    <tr>\n",
       "      <th>0</th>\n",
       "      <td>1</td>\n",
       "      <td>31</td>\n",
       "      <td>2.5</td>\n",
       "      <td>1260759144</td>\n",
       "      <td>2.818670</td>\n",
       "    </tr>\n",
       "    <tr>\n",
       "      <th>1</th>\n",
       "      <td>1</td>\n",
       "      <td>1029</td>\n",
       "      <td>3.0</td>\n",
       "      <td>1260759179</td>\n",
       "      <td>2.874687</td>\n",
       "    </tr>\n",
       "    <tr>\n",
       "      <th>2</th>\n",
       "      <td>1</td>\n",
       "      <td>1061</td>\n",
       "      <td>3.0</td>\n",
       "      <td>1260759182</td>\n",
       "      <td>3.289053</td>\n",
       "    </tr>\n",
       "    <tr>\n",
       "      <th>3</th>\n",
       "      <td>1</td>\n",
       "      <td>1129</td>\n",
       "      <td>2.0</td>\n",
       "      <td>1260759185</td>\n",
       "      <td>2.582534</td>\n",
       "    </tr>\n",
       "    <tr>\n",
       "      <th>4</th>\n",
       "      <td>1</td>\n",
       "      <td>1172</td>\n",
       "      <td>4.0</td>\n",
       "      <td>1260759205</td>\n",
       "      <td>3.598834</td>\n",
       "    </tr>\n",
       "  </tbody>\n",
       "</table>\n",
       "</div>"
      ],
      "text/plain": [
       "   userId  movieId  rating   timestamp    result\n",
       "0       1       31     2.5  1260759144  2.818670\n",
       "1       1     1029     3.0  1260759179  2.874687\n",
       "2       1     1061     3.0  1260759182  3.289053\n",
       "3       1     1129     2.0  1260759185  2.582534\n",
       "4       1     1172     4.0  1260759205  3.598834"
      ]
     },
     "execution_count": 41,
     "metadata": {},
     "output_type": "execute_result"
    }
   ],
   "source": [
    "rating.head()"
   ]
  },
  {
   "cell_type": "code",
   "execution_count": 45,
   "metadata": {},
   "outputs": [
    {
     "data": {
      "text/plain": [
       "True     98203\n",
       "False     1801\n",
       "dtype: int64"
      ]
     },
     "execution_count": 45,
     "metadata": {},
     "output_type": "execute_result"
    }
   ],
   "source": [
    "th = 1\n",
    "((rating['rating']-rating['result']<th)&\n",
    " (rating['rating']-rating['result']>-th)).value_counts()"
   ]
  },
  {
   "cell_type": "code",
   "execution_count": null,
   "metadata": {
    "collapsed": true
   },
   "outputs": [],
   "source": []
  }
 ],
 "metadata": {
  "kernelspec": {
   "display_name": "Python 3",
   "language": "python",
   "name": "python3"
  },
  "language_info": {
   "codemirror_mode": {
    "name": "ipython",
    "version": 3
   },
   "file_extension": ".py",
   "mimetype": "text/x-python",
   "name": "python",
   "nbconvert_exporter": "python",
   "pygments_lexer": "ipython3",
   "version": "3.5.3"
  }
 },
 "nbformat": 4,
 "nbformat_minor": 2
}
